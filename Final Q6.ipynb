{
 "cells": [
  {
   "cell_type": "code",
   "execution_count": 1,
   "id": "e8a5f737-ca20-4a65-bba7-c5d9e6f03a93",
   "metadata": {},
   "outputs": [],
   "source": [
    "## import Python libraries and functionality\n",
    "\n",
    "import pandas as pd\n",
    "from scipy import stats\n",
    "import numpy as np\n",
    "import scipy.stats\n",
    "import matplotlib.pyplot as plt\n",
    "from scipy.stats import norm\n",
    "\n",
    "import statsmodels.api as sm"
   ]
  },
  {
   "cell_type": "code",
   "execution_count": 2,
   "id": "8d90a7ca-5294-4711-ad33-745318425146",
   "metadata": {},
   "outputs": [
    {
     "data": {
      "text/html": [
       "<div>\n",
       "<style scoped>\n",
       "    .dataframe tbody tr th:only-of-type {\n",
       "        vertical-align: middle;\n",
       "    }\n",
       "\n",
       "    .dataframe tbody tr th {\n",
       "        vertical-align: top;\n",
       "    }\n",
       "\n",
       "    .dataframe thead th {\n",
       "        text-align: right;\n",
       "    }\n",
       "</style>\n",
       "<table border=\"1\" class=\"dataframe\">\n",
       "  <thead>\n",
       "    <tr style=\"text-align: right;\">\n",
       "      <th></th>\n",
       "      <th>Date</th>\n",
       "      <th>Open</th>\n",
       "      <th>High</th>\n",
       "      <th>Low</th>\n",
       "      <th>Close</th>\n",
       "      <th>Adj Close</th>\n",
       "      <th>Volume</th>\n",
       "      <th>Returns_Cls</th>\n",
       "    </tr>\n",
       "  </thead>\n",
       "  <tbody>\n",
       "    <tr>\n",
       "      <th>1</th>\n",
       "      <td>1997-05-16</td>\n",
       "      <td>84.125000</td>\n",
       "      <td>84.312500</td>\n",
       "      <td>83.000000</td>\n",
       "      <td>83.218750</td>\n",
       "      <td>53.696087</td>\n",
       "      <td>1934200</td>\n",
       "      <td>-0.013798</td>\n",
       "    </tr>\n",
       "    <tr>\n",
       "      <th>2</th>\n",
       "      <td>1997-05-19</td>\n",
       "      <td>83.312500</td>\n",
       "      <td>83.906250</td>\n",
       "      <td>83.062500</td>\n",
       "      <td>83.468750</td>\n",
       "      <td>53.857410</td>\n",
       "      <td>1375800</td>\n",
       "      <td>0.003000</td>\n",
       "    </tr>\n",
       "    <tr>\n",
       "      <th>3</th>\n",
       "      <td>1997-05-20</td>\n",
       "      <td>83.281250</td>\n",
       "      <td>84.687500</td>\n",
       "      <td>82.750000</td>\n",
       "      <td>84.468750</td>\n",
       "      <td>54.502625</td>\n",
       "      <td>1756400</td>\n",
       "      <td>0.011909</td>\n",
       "    </tr>\n",
       "    <tr>\n",
       "      <th>4</th>\n",
       "      <td>1997-05-21</td>\n",
       "      <td>84.687500</td>\n",
       "      <td>84.984375</td>\n",
       "      <td>83.656250</td>\n",
       "      <td>84.281250</td>\n",
       "      <td>54.381664</td>\n",
       "      <td>1208000</td>\n",
       "      <td>-0.002222</td>\n",
       "    </tr>\n",
       "    <tr>\n",
       "      <th>5</th>\n",
       "      <td>1997-05-22</td>\n",
       "      <td>84.375000</td>\n",
       "      <td>84.468750</td>\n",
       "      <td>83.562500</td>\n",
       "      <td>84.000000</td>\n",
       "      <td>54.200169</td>\n",
       "      <td>907600</td>\n",
       "      <td>-0.003343</td>\n",
       "    </tr>\n",
       "    <tr>\n",
       "      <th>...</th>\n",
       "      <td>...</td>\n",
       "      <td>...</td>\n",
       "      <td>...</td>\n",
       "      <td>...</td>\n",
       "      <td>...</td>\n",
       "      <td>...</td>\n",
       "      <td>...</td>\n",
       "      <td>...</td>\n",
       "    </tr>\n",
       "    <tr>\n",
       "      <th>6127</th>\n",
       "      <td>2021-09-20</td>\n",
       "      <td>434.880005</td>\n",
       "      <td>436.559998</td>\n",
       "      <td>428.859985</td>\n",
       "      <td>434.040009</td>\n",
       "      <td>434.040009</td>\n",
       "      <td>166445500</td>\n",
       "      <td>-0.016815</td>\n",
       "    </tr>\n",
       "    <tr>\n",
       "      <th>6128</th>\n",
       "      <td>2021-09-21</td>\n",
       "      <td>436.529999</td>\n",
       "      <td>437.910004</td>\n",
       "      <td>433.070007</td>\n",
       "      <td>433.630005</td>\n",
       "      <td>433.630005</td>\n",
       "      <td>92526100</td>\n",
       "      <td>-0.000945</td>\n",
       "    </tr>\n",
       "    <tr>\n",
       "      <th>6129</th>\n",
       "      <td>2021-09-22</td>\n",
       "      <td>436.049988</td>\n",
       "      <td>440.029999</td>\n",
       "      <td>433.750000</td>\n",
       "      <td>437.859985</td>\n",
       "      <td>437.859985</td>\n",
       "      <td>102350100</td>\n",
       "      <td>0.009708</td>\n",
       "    </tr>\n",
       "    <tr>\n",
       "      <th>6130</th>\n",
       "      <td>2021-09-23</td>\n",
       "      <td>439.850006</td>\n",
       "      <td>444.890015</td>\n",
       "      <td>439.600006</td>\n",
       "      <td>443.179993</td>\n",
       "      <td>443.179993</td>\n",
       "      <td>76396000</td>\n",
       "      <td>0.012077</td>\n",
       "    </tr>\n",
       "    <tr>\n",
       "      <th>6131</th>\n",
       "      <td>2021-09-24</td>\n",
       "      <td>441.440002</td>\n",
       "      <td>444.670013</td>\n",
       "      <td>441.209991</td>\n",
       "      <td>443.910004</td>\n",
       "      <td>443.910004</td>\n",
       "      <td>62025800</td>\n",
       "      <td>0.001646</td>\n",
       "    </tr>\n",
       "  </tbody>\n",
       "</table>\n",
       "<p>6131 rows × 8 columns</p>\n",
       "</div>"
      ],
      "text/plain": [
       "            Date        Open        High         Low       Close   Adj Close  \\\n",
       "1     1997-05-16   84.125000   84.312500   83.000000   83.218750   53.696087   \n",
       "2     1997-05-19   83.312500   83.906250   83.062500   83.468750   53.857410   \n",
       "3     1997-05-20   83.281250   84.687500   82.750000   84.468750   54.502625   \n",
       "4     1997-05-21   84.687500   84.984375   83.656250   84.281250   54.381664   \n",
       "5     1997-05-22   84.375000   84.468750   83.562500   84.000000   54.200169   \n",
       "...          ...         ...         ...         ...         ...         ...   \n",
       "6127  2021-09-20  434.880005  436.559998  428.859985  434.040009  434.040009   \n",
       "6128  2021-09-21  436.529999  437.910004  433.070007  433.630005  433.630005   \n",
       "6129  2021-09-22  436.049988  440.029999  433.750000  437.859985  437.859985   \n",
       "6130  2021-09-23  439.850006  444.890015  439.600006  443.179993  443.179993   \n",
       "6131  2021-09-24  441.440002  444.670013  441.209991  443.910004  443.910004   \n",
       "\n",
       "         Volume  Returns_Cls  \n",
       "1       1934200    -0.013798  \n",
       "2       1375800     0.003000  \n",
       "3       1756400     0.011909  \n",
       "4       1208000    -0.002222  \n",
       "5        907600    -0.003343  \n",
       "...         ...          ...  \n",
       "6127  166445500    -0.016815  \n",
       "6128   92526100    -0.000945  \n",
       "6129  102350100     0.009708  \n",
       "6130   76396000     0.012077  \n",
       "6131   62025800     0.001646  \n",
       "\n",
       "[6131 rows x 8 columns]"
      ]
     },
     "execution_count": 2,
     "metadata": {},
     "output_type": "execute_result"
    }
   ],
   "source": [
    "data = pd.read_csv('SPY.csv')\n",
    "data_amzn = pd.read_csv('amzn.csv')\n",
    "data['Returns_Cls'] = np.log(data.Close / data.Close.shift())\n",
    "data_amzn['Returns_Cls'] = np.log(data_amzn.Close / data_amzn.Close.shift())\n",
    "\n",
    "data = data[1085:].reset_index()\n",
    "data_amzn = data_amzn[1:]\n",
    "data = data[1:].drop(columns=['index'])\n",
    "data"
   ]
  },
  {
   "cell_type": "code",
   "execution_count": 3,
   "id": "4a3011e5-af40-4e52-83ab-ac9e76637cb5",
   "metadata": {},
   "outputs": [
    {
     "data": {
      "text/html": [
       "<div>\n",
       "<style scoped>\n",
       "    .dataframe tbody tr th:only-of-type {\n",
       "        vertical-align: middle;\n",
       "    }\n",
       "\n",
       "    .dataframe tbody tr th {\n",
       "        vertical-align: top;\n",
       "    }\n",
       "\n",
       "    .dataframe thead th {\n",
       "        text-align: right;\n",
       "    }\n",
       "</style>\n",
       "<table border=\"1\" class=\"dataframe\">\n",
       "  <thead>\n",
       "    <tr style=\"text-align: right;\">\n",
       "      <th></th>\n",
       "      <th>Date</th>\n",
       "      <th>Open</th>\n",
       "      <th>High</th>\n",
       "      <th>Low</th>\n",
       "      <th>Close</th>\n",
       "      <th>Adj Close</th>\n",
       "      <th>Volume</th>\n",
       "      <th>Returns_Cls</th>\n",
       "    </tr>\n",
       "  </thead>\n",
       "  <tbody>\n",
       "    <tr>\n",
       "      <th>1</th>\n",
       "      <td>1997-05-16</td>\n",
       "      <td>1.968750</td>\n",
       "      <td>1.979167</td>\n",
       "      <td>1.708333</td>\n",
       "      <td>1.729167</td>\n",
       "      <td>1.729167</td>\n",
       "      <td>14700000</td>\n",
       "      <td>-0.124454</td>\n",
       "    </tr>\n",
       "    <tr>\n",
       "      <th>2</th>\n",
       "      <td>1997-05-19</td>\n",
       "      <td>1.760417</td>\n",
       "      <td>1.770833</td>\n",
       "      <td>1.625000</td>\n",
       "      <td>1.708333</td>\n",
       "      <td>1.708333</td>\n",
       "      <td>6106800</td>\n",
       "      <td>-0.012122</td>\n",
       "    </tr>\n",
       "    <tr>\n",
       "      <th>3</th>\n",
       "      <td>1997-05-20</td>\n",
       "      <td>1.729167</td>\n",
       "      <td>1.750000</td>\n",
       "      <td>1.635417</td>\n",
       "      <td>1.635417</td>\n",
       "      <td>1.635417</td>\n",
       "      <td>5467200</td>\n",
       "      <td>-0.043620</td>\n",
       "    </tr>\n",
       "    <tr>\n",
       "      <th>4</th>\n",
       "      <td>1997-05-21</td>\n",
       "      <td>1.635417</td>\n",
       "      <td>1.645833</td>\n",
       "      <td>1.375000</td>\n",
       "      <td>1.427083</td>\n",
       "      <td>1.427083</td>\n",
       "      <td>18853200</td>\n",
       "      <td>-0.136265</td>\n",
       "    </tr>\n",
       "    <tr>\n",
       "      <th>5</th>\n",
       "      <td>1997-05-22</td>\n",
       "      <td>1.437500</td>\n",
       "      <td>1.447917</td>\n",
       "      <td>1.312500</td>\n",
       "      <td>1.395833</td>\n",
       "      <td>1.395833</td>\n",
       "      <td>11776800</td>\n",
       "      <td>-0.022141</td>\n",
       "    </tr>\n",
       "    <tr>\n",
       "      <th>...</th>\n",
       "      <td>...</td>\n",
       "      <td>...</td>\n",
       "      <td>...</td>\n",
       "      <td>...</td>\n",
       "      <td>...</td>\n",
       "      <td>...</td>\n",
       "      <td>...</td>\n",
       "      <td>...</td>\n",
       "    </tr>\n",
       "    <tr>\n",
       "      <th>6127</th>\n",
       "      <td>2021-09-20</td>\n",
       "      <td>3396.000000</td>\n",
       "      <td>3419.000000</td>\n",
       "      <td>3305.010010</td>\n",
       "      <td>3355.729980</td>\n",
       "      <td>3355.729980</td>\n",
       "      <td>4669100</td>\n",
       "      <td>-0.031327</td>\n",
       "    </tr>\n",
       "    <tr>\n",
       "      <th>6128</th>\n",
       "      <td>2021-09-21</td>\n",
       "      <td>3375.000000</td>\n",
       "      <td>3379.699951</td>\n",
       "      <td>3332.389893</td>\n",
       "      <td>3343.629883</td>\n",
       "      <td>3343.629883</td>\n",
       "      <td>2780900</td>\n",
       "      <td>-0.003612</td>\n",
       "    </tr>\n",
       "    <tr>\n",
       "      <th>6129</th>\n",
       "      <td>2021-09-22</td>\n",
       "      <td>3351.000000</td>\n",
       "      <td>3389.000000</td>\n",
       "      <td>3341.050049</td>\n",
       "      <td>3380.050049</td>\n",
       "      <td>3380.050049</td>\n",
       "      <td>2411400</td>\n",
       "      <td>0.010834</td>\n",
       "    </tr>\n",
       "    <tr>\n",
       "      <th>6130</th>\n",
       "      <td>2021-09-23</td>\n",
       "      <td>3380.050049</td>\n",
       "      <td>3428.959961</td>\n",
       "      <td>3380.050049</td>\n",
       "      <td>3416.000000</td>\n",
       "      <td>3416.000000</td>\n",
       "      <td>2379400</td>\n",
       "      <td>0.010580</td>\n",
       "    </tr>\n",
       "    <tr>\n",
       "      <th>6131</th>\n",
       "      <td>2021-09-24</td>\n",
       "      <td>3402.010010</td>\n",
       "      <td>3429.260010</td>\n",
       "      <td>3393.399902</td>\n",
       "      <td>3425.520020</td>\n",
       "      <td>3425.520020</td>\n",
       "      <td>2113600</td>\n",
       "      <td>0.002783</td>\n",
       "    </tr>\n",
       "  </tbody>\n",
       "</table>\n",
       "<p>6131 rows × 8 columns</p>\n",
       "</div>"
      ],
      "text/plain": [
       "            Date         Open         High          Low        Close  \\\n",
       "1     1997-05-16     1.968750     1.979167     1.708333     1.729167   \n",
       "2     1997-05-19     1.760417     1.770833     1.625000     1.708333   \n",
       "3     1997-05-20     1.729167     1.750000     1.635417     1.635417   \n",
       "4     1997-05-21     1.635417     1.645833     1.375000     1.427083   \n",
       "5     1997-05-22     1.437500     1.447917     1.312500     1.395833   \n",
       "...          ...          ...          ...          ...          ...   \n",
       "6127  2021-09-20  3396.000000  3419.000000  3305.010010  3355.729980   \n",
       "6128  2021-09-21  3375.000000  3379.699951  3332.389893  3343.629883   \n",
       "6129  2021-09-22  3351.000000  3389.000000  3341.050049  3380.050049   \n",
       "6130  2021-09-23  3380.050049  3428.959961  3380.050049  3416.000000   \n",
       "6131  2021-09-24  3402.010010  3429.260010  3393.399902  3425.520020   \n",
       "\n",
       "        Adj Close    Volume  Returns_Cls  \n",
       "1        1.729167  14700000    -0.124454  \n",
       "2        1.708333   6106800    -0.012122  \n",
       "3        1.635417   5467200    -0.043620  \n",
       "4        1.427083  18853200    -0.136265  \n",
       "5        1.395833  11776800    -0.022141  \n",
       "...           ...       ...          ...  \n",
       "6127  3355.729980   4669100    -0.031327  \n",
       "6128  3343.629883   2780900    -0.003612  \n",
       "6129  3380.050049   2411400     0.010834  \n",
       "6130  3416.000000   2379400     0.010580  \n",
       "6131  3425.520020   2113600     0.002783  \n",
       "\n",
       "[6131 rows x 8 columns]"
      ]
     },
     "execution_count": 3,
     "metadata": {},
     "output_type": "execute_result"
    }
   ],
   "source": [
    "data_amzn"
   ]
  },
  {
   "cell_type": "code",
   "execution_count": 4,
   "id": "3daa1bdd-1395-4e68-9f96-4e9f8c4f62bb",
   "metadata": {},
   "outputs": [
    {
     "name": "stdout",
     "output_type": "stream",
     "text": [
      "                            OLS Regression Results                            \n",
      "==============================================================================\n",
      "Dep. Variable:            Returns_Cls   R-squared:                       0.191\n",
      "Model:                            OLS   Adj. R-squared:                  0.191\n",
      "Method:                 Least Squares   F-statistic:                     1451.\n",
      "Date:                Fri, 17 Dec 2021   Prob (F-statistic):          3.99e-285\n",
      "Time:                        10:40:03   Log-Likelihood:                 12330.\n",
      "No. Observations:                6131   AIC:                        -2.466e+04\n",
      "Df Residuals:                    6129   BIC:                        -2.464e+04\n",
      "Df Model:                           1                                         \n",
      "Covariance Type:            nonrobust                                         \n",
      "===============================================================================\n",
      "                  coef    std err          t      P>|t|      [0.025      0.975]\n",
      "-------------------------------------------------------------------------------\n",
      "Returns_Cls     1.2614      0.033     38.090      0.000       1.196       1.326\n",
      "Constant        0.0009      0.000      2.118      0.034    6.51e-05       0.002\n",
      "==============================================================================\n",
      "Omnibus:                     1639.647   Durbin-Watson:                   2.011\n",
      "Prob(Omnibus):                  0.000   Jarque-Bera (JB):            39757.018\n",
      "Skew:                           0.720   Prob(JB):                         0.00\n",
      "Kurtosis:                      15.392   Cond. No.                         80.0\n",
      "==============================================================================\n",
      "\n",
      "Notes:\n",
      "[1] Standard Errors assume that the covariance matrix of the errors is correctly specified.\n"
     ]
    }
   ],
   "source": [
    "y = data_amzn['Returns_Cls']\n",
    "x = pd.DataFrame(data['Returns_Cls'])\n",
    "x['Constant'] = 1\n",
    "\n",
    "model = sm.OLS(y, x)\n",
    "results = model.fit()\n",
    "print(results.summary())"
   ]
  },
  {
   "cell_type": "code",
   "execution_count": 5,
   "id": "6aa14972-fc94-4722-bd8d-bbea2bfd3a49",
   "metadata": {},
   "outputs": [
    {
     "data": {
      "text/plain": [
       "1      -0.013798\n",
       "2       0.003000\n",
       "3       0.011909\n",
       "4      -0.002222\n",
       "5      -0.003343\n",
       "          ...   \n",
       "6127   -0.016815\n",
       "6128   -0.000945\n",
       "6129    0.009708\n",
       "6130    0.012077\n",
       "6131    0.001646\n",
       "Name: Returns_Cls, Length: 6131, dtype: float64"
      ]
     },
     "execution_count": 5,
     "metadata": {},
     "output_type": "execute_result"
    }
   ],
   "source": [
    "x_ret = x['Returns_Cls']\n",
    "x_ret"
   ]
  },
  {
   "cell_type": "code",
   "execution_count": 6,
   "id": "c9d58a82-2aa9-4369-9383-8c234015b1c1",
   "metadata": {},
   "outputs": [
    {
     "data": {
      "text/plain": [
       "array([[1.        , 0.43750425],\n",
       "       [0.43750425, 1.        ]])"
      ]
     },
     "execution_count": 6,
     "metadata": {},
     "output_type": "execute_result"
    }
   ],
   "source": [
    "rho_amzn_spy = np.corrcoef(x_ret, y)\n",
    "rho_amzn_spy"
   ]
  },
  {
   "cell_type": "code",
   "execution_count": 7,
   "id": "e9b2d1be-77bc-4b5a-a7c1-25237fbeca95",
   "metadata": {},
   "outputs": [
    {
     "data": {
      "text/plain": [
       "array([[0.00015609, 0.00019689],\n",
       "       [0.00019689, 0.00129747]])"
      ]
     },
     "execution_count": 7,
     "metadata": {},
     "output_type": "execute_result"
    }
   ],
   "source": [
    "cov_amzn_spy = np.cov(x_ret, y)\n",
    "cov_amzn_spy"
   ]
  },
  {
   "cell_type": "code",
   "execution_count": 8,
   "id": "5b4e4655-c3ee-4e20-b07c-fb9cc85cec39",
   "metadata": {},
   "outputs": [
    {
     "data": {
      "text/plain": [
       "0.4375042523778818"
      ]
     },
     "execution_count": 8,
     "metadata": {},
     "output_type": "execute_result"
    }
   ],
   "source": [
    "rho_value_amzn_spy = rho_amzn_spy[0,1]\n",
    "rho_value_amzn_spy"
   ]
  },
  {
   "cell_type": "code",
   "execution_count": 9,
   "id": "9e2902da-7aa2-49b1-9ee5-83aed2e751d7",
   "metadata": {},
   "outputs": [
    {
     "data": {
      "text/plain": [
       "0.0012974730446875958"
      ]
     },
     "execution_count": 9,
     "metadata": {},
     "output_type": "execute_result"
    }
   ],
   "source": [
    "amzn_std = cov_amzn_spy[1,1]\n",
    "amzn_std"
   ]
  },
  {
   "cell_type": "code",
   "execution_count": 10,
   "id": "535b77ad-c0fc-4510-972b-3d3a4d88c526",
   "metadata": {},
   "outputs": [
    {
     "data": {
      "text/plain": [
       "0.0001560922513875577"
      ]
     },
     "execution_count": 10,
     "metadata": {},
     "output_type": "execute_result"
    }
   ],
   "source": [
    "spy_std = cov_amzn_spy[0,0]\n",
    "spy_std"
   ]
  },
  {
   "cell_type": "code",
   "execution_count": 11,
   "id": "af81af6e-cd12-4e55-bd61-531270ecd112",
   "metadata": {},
   "outputs": [
    {
     "data": {
      "text/plain": [
       "3.636631346850755"
      ]
     },
     "execution_count": 11,
     "metadata": {},
     "output_type": "execute_result"
    }
   ],
   "source": [
    "beta = rho_value_amzn_spy * (amzn_std / spy_std)\n",
    "beta"
   ]
  }
 ],
 "metadata": {
  "kernelspec": {
   "display_name": "Python 3 (ipykernel)",
   "language": "python",
   "name": "python3"
  },
  "language_info": {
   "codemirror_mode": {
    "name": "ipython",
    "version": 3
   },
   "file_extension": ".py",
   "mimetype": "text/x-python",
   "name": "python",
   "nbconvert_exporter": "python",
   "pygments_lexer": "ipython3",
   "version": "3.9.7"
  }
 },
 "nbformat": 4,
 "nbformat_minor": 5
}
